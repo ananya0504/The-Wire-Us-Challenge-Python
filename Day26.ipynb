{
 "cells": [
  {
   "cell_type": "code",
   "execution_count": 11,
   "metadata": {},
   "outputs": [
    {
     "name": "stdout",
     "output_type": "stream",
     "text": [
      "Enter year: 1900\n",
      "Not a leap year!\n"
     ]
    }
   ],
   "source": [
    "y=int(input(\"Enter year: \"))\n",
    "\n",
    "if(y%4==0):\n",
    "    if(y%100==0):\n",
    "        if(y%400==0):\n",
    "            print(\"The year is a leap year!\")\n",
    "        else:\n",
    "            print(\"Not a leap year!\")\n",
    "    else:\n",
    "        print(\"It is a leap year\")\n",
    "else:\n",
    "    print(\"The year is not a leap year!\")\n"
   ]
  },
  {
   "cell_type": "code",
   "execution_count": null,
   "metadata": {},
   "outputs": [],
   "source": []
  }
 ],
 "metadata": {
  "kernelspec": {
   "display_name": "Python 3",
   "language": "python",
   "name": "python3"
  },
  "language_info": {
   "codemirror_mode": {
    "name": "ipython",
    "version": 3
   },
   "file_extension": ".py",
   "mimetype": "text/x-python",
   "name": "python",
   "nbconvert_exporter": "python",
   "pygments_lexer": "ipython3",
   "version": "3.8.3"
  }
 },
 "nbformat": 4,
 "nbformat_minor": 4
}
