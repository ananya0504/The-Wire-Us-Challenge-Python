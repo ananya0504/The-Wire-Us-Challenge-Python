{
  "nbformat": 4,
  "nbformat_minor": 0,
  "metadata": {
    "colab": {
      "name": "Day22.ipynb",
      "provenance": [],
      "authorship_tag": "ABX9TyMTG/39U04WVxR0slQP94PL",
      "include_colab_link": true
    },
    "kernelspec": {
      "name": "python3",
      "display_name": "Python 3"
    }
  },
  "cells": [
    {
      "cell_type": "markdown",
      "metadata": {
        "id": "view-in-github",
        "colab_type": "text"
      },
      "source": [
        "<a href=\"https://colab.research.google.com/github/ananya0504/The-Wire-Us-Challenge-Python/blob/master/Day22.ipynb\" target=\"_parent\"><img src=\"https://colab.research.google.com/assets/colab-badge.svg\" alt=\"Open In Colab\"/></a>"
      ]
    },
    {
      "cell_type": "code",
      "metadata": {
        "id": "EImzCldr6Ox5"
      },
      "source": [
        "import random"
      ],
      "execution_count": null,
      "outputs": []
    },
    {
      "cell_type": "code",
      "metadata": {
        "id": "yEeb5oQ36SBA",
        "outputId": "f00aa8aa-be17-4d3c-b9be-b31d8c2ae638",
        "colab": {
          "base_uri": "https://localhost:8080/",
          "height": 337
        }
      },
      "source": [
        "print(\"LET'S PLAY A GAME\")\n",
        "x=random.randint(0,50)\n",
        "count=1\n",
        "print(\"I have selected a number from 1 to 50, can you guess it? You have 5 chances!\")\n",
        "\n",
        "while count<=5:\n",
        "    guess=int(input())\n",
        "    if guess==x:\n",
        "        if count==1:\n",
        "            print(\"Wow, you are extremely luckkkkyyyy\")\n",
        "        else:\n",
        "            print(\"SHAME. IT TOOK YOU \", count,\" chances!\")\n",
        "        break\n",
        "    else:\n",
        "        print(\"SIKE....THATS THE WRONG NUMBER.\")\n",
        "        if count==4:\n",
        "            print(\"One chance to gooooo\")\n",
        "        else:\n",
        "            print(\"CAREFUL! YOU HAVE \", 5-count, \"chances left\")\n",
        "    count=count+1\n",
        "print(\"The number was: \", x)"
      ],
      "execution_count": null,
      "outputs": [
        {
          "output_type": "stream",
          "text": [
            "LET'S PLAY A GAME\n",
            "I have selected a number from 1 to 50, can you guess it? You have 5 chances!\n",
            "23\n",
            "SIKE....THATS THE WRONG NUMBER.\n",
            "CAREFUL! YOU HAVE  4 chances left\n",
            "33\n",
            "SIKE....THATS THE WRONG NUMBER.\n",
            "CAREFUL! YOU HAVE  3 chances left\n",
            "39\n",
            "SIKE....THATS THE WRONG NUMBER.\n",
            "CAREFUL! YOU HAVE  2 chances left\n",
            "49\n",
            "SIKE....THATS THE WRONG NUMBER.\n",
            "One chance to gooooo\n",
            "43\n",
            "SIKE....THATS THE WRONG NUMBER.\n",
            "CAREFUL! YOU HAVE  0 chances left\n",
            "The number was:  27\n"
          ],
          "name": "stdout"
        }
      ]
    },
    {
      "cell_type": "code",
      "metadata": {
        "id": "X1tgp-5r7p65"
      },
      "source": [
        ""
      ],
      "execution_count": null,
      "outputs": []
    }
  ]
}