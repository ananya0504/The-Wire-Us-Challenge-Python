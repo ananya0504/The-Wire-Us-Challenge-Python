{
 "cells": [
  {
   "cell_type": "code",
   "execution_count": 1,
   "metadata": {},
   "outputs": [
    {
     "name": "stdout",
     "output_type": "stream",
     "text": [
      "Requirement already satisfied: xlrd in c:\\programdata\\anaconda3\\lib\\site-packages (1.2.0)\n",
      "Note: you may need to restart the kernel to use updated packages.\n"
     ]
    }
   ],
   "source": [
    "pip install xlrd"
   ]
  },
  {
   "cell_type": "code",
   "execution_count": 18,
   "metadata": {},
   "outputs": [
    {
     "name": "stdout",
     "output_type": "stream",
     "text": [
      "3\n",
      "text:'PROJECT, EVENT, LETTERHEADS, ETC. '\n",
      "PROJECT, EVENT, LETTERHEADS, ETC. \n"
     ]
    }
   ],
   "source": [
    "import xlrd\n",
    "\n",
    "# Make workbook object\n",
    "workbook = xlrd.open_workbook('Sample.xlsx')\n",
    "\n",
    "# To know number of worksheets use\n",
    "print(workbook.nsheets)\n",
    "\n",
    "# To select the first worksheet use\n",
    "first_sheet = workbook.sheet_by_index(0)\n",
    "\n",
    "# To select worksheet by name use\n",
    "sheet1 = workbook.sheet_by_name('sept')\n",
    "\n",
    "# To read the third row\n",
    "#print(first_sheet.row_values(2))\n",
    " \n",
    "# To print the third cell of the second column\n",
    "cell = first_sheet.cell(2,1)\n",
    "print(cell)\n",
    "print(cell.value)\n",
    " "
   ]
  }
 ],
 "metadata": {
  "kernelspec": {
   "display_name": "Python 3",
   "language": "python",
   "name": "python3"
  },
  "language_info": {
   "codemirror_mode": {
    "name": "ipython",
    "version": 3
   },
   "file_extension": ".py",
   "mimetype": "text/x-python",
   "name": "python",
   "nbconvert_exporter": "python",
   "pygments_lexer": "ipython3",
   "version": "3.8.3"
  }
 },
 "nbformat": 4,
 "nbformat_minor": 4
}
