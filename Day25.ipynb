{
 "cells": [
  {
   "cell_type": "code",
   "execution_count": 2,
   "metadata": {},
   "outputs": [
    {
     "name": "stdout",
     "output_type": "stream",
     "text": [
      "Enter a string: Ananya Gupta\n",
      "{'a': 4, 'e': 0, 'i': 0, 'o': 0, 'u': 1}\n"
     ]
    }
   ],
   "source": [
    "\n",
    "\n",
    "# Count vowels in a different way using a dictionary \n",
    "def Check_Vow(string, vowels): \n",
    "      \n",
    "    # casefold has been used to ignore cases \n",
    "    string = string.casefold() \n",
    "      \n",
    "    # Forms a dictionary with key as a vowel \n",
    "    # and the value as 0 \n",
    "    count = {}.fromkeys(vowels, 0) \n",
    "      \n",
    "    # To count the vowels \n",
    "    for character in string: \n",
    "        if character in count: \n",
    "            count[character] += 1    \n",
    "    return count \n",
    "      \n",
    "# Driver Code \n",
    "str=input(\"Enter a string: \")\n",
    "vowels = 'aeiou'\n",
    "print (Check_Vow(str, vowels)) "
   ]
  },
  {
   "cell_type": "code",
   "execution_count": null,
   "metadata": {},
   "outputs": [],
   "source": []
  }
 ],
 "metadata": {
  "kernelspec": {
   "display_name": "Python 3",
   "language": "python",
   "name": "python3"
  },
  "language_info": {
   "codemirror_mode": {
    "name": "ipython",
    "version": 3
   },
   "file_extension": ".py",
   "mimetype": "text/x-python",
   "name": "python",
   "nbconvert_exporter": "python",
   "pygments_lexer": "ipython3",
   "version": "3.8.3"
  }
 },
 "nbformat": 4,
 "nbformat_minor": 4
}
