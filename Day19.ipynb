{
 "cells": [
  {
   "cell_type": "code",
   "execution_count": 2,
   "metadata": {},
   "outputs": [
    {
     "name": "stdout",
     "output_type": "stream",
     "text": [
      "Enter starting value: 1\n",
      "Enter ending value: 100\n",
      "1 4 9 16 25 36 49 64 81 100 "
     ]
    }
   ],
   "source": [
    "# Function to print all the perfect squares from the given range \n",
    "def perfectSquares(l, r): \n",
    "  for i in range(l, r + 1): \n",
    "        if (i**(.5) == int(i**(.5))): \n",
    "            print(i, end=\" \") \n",
    "  \n",
    "# Driver code \n",
    "l = int(input(\"Enter starting value: \"))\n",
    "r = int(input(\"Enter ending value: \"))\n",
    "  \n",
    "perfectSquares(l, r) "
   ]
  },
  {
   "cell_type": "code",
   "execution_count": null,
   "metadata": {},
   "outputs": [],
   "source": []
  }
 ],
 "metadata": {
  "kernelspec": {
   "display_name": "Python 3",
   "language": "python",
   "name": "python3"
  },
  "language_info": {
   "codemirror_mode": {
    "name": "ipython",
    "version": 3
   },
   "file_extension": ".py",
   "mimetype": "text/x-python",
   "name": "python",
   "nbconvert_exporter": "python",
   "pygments_lexer": "ipython3",
   "version": "3.8.3"
  }
 },
 "nbformat": 4,
 "nbformat_minor": 4
}
