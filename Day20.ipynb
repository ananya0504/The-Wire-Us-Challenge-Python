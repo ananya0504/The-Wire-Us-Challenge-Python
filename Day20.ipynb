{
 "cells": [
  {
   "cell_type": "code",
   "execution_count": null,
   "metadata": {},
   "outputs": [],
   "source": [
    "# Extract Upper Case Characters using list comprehension + isupper() \n",
    "    \n",
    "inp_str = input(\"Enter a string: \")\n",
    "   \n",
    "print(\"The original string is : \" + str(inp_str)) \n",
    "  \n",
    "res_str = [char for char in inp_str if char.isupper()] \n",
    "   \n",
    "print(\"The uppercase characters in string are : \" + str(res_str)) "
   ]
  },
  {
   "cell_type": "code",
   "execution_count": null,
   "metadata": {},
   "outputs": [],
   "source": []
  }
 ],
 "metadata": {
  "kernelspec": {
   "display_name": "Python 3",
   "language": "python",
   "name": "python3"
  },
  "language_info": {
   "codemirror_mode": {
    "name": "ipython",
    "version": 3
   },
   "file_extension": ".py",
   "mimetype": "text/x-python",
   "name": "python",
   "nbconvert_exporter": "python",
   "pygments_lexer": "ipython3",
   "version": "3.8.3"
  }
 },
 "nbformat": 4,
 "nbformat_minor": 4
}
