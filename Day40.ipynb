{
 "cells": [
  {
   "cell_type": "code",
   "execution_count": 2,
   "metadata": {},
   "outputs": [],
   "source": [
    "import xlsxwriter\n",
    "\n",
    "workbook = xlsxwriter.Workbook('Day40.xlsx')\n",
    "worksheet = workbook.add_worksheet()\n",
    "\n",
    "worksheet.write(0, 0, 'The')\n",
    "worksheet.write(0, 1, 'WireUs')    \n",
    "worksheet.write(0, 2, 'Challenge')    \n",
    "\n",
    "workbook.close()"
   ]
  },
  {
   "cell_type": "code",
   "execution_count": 4,
   "metadata": {},
   "outputs": [
    {
     "name": "stdout",
     "output_type": "stream",
     "text": [
      "The WireUs Challenge "
     ]
    }
   ],
   "source": [
    "import xlrd\n",
    "loc = (r\"C:\\Users\\anany\\All python WireUs Files\\Day40.xlsx\")\n",
    "workbook = xlrd.open_workbook(loc)\n",
    "worksheet = workbook.sheet_by_index(0)\n",
    "print(worksheet.cell_value(0,0),end = \" \")\n",
    "print(worksheet.cell_value(0,1),end = \" \")\n",
    "print(worksheet.cell_value(0,2),end = \" \")"
   ]
  },
  {
   "cell_type": "code",
   "execution_count": null,
   "metadata": {},
   "outputs": [],
   "source": []
  }
 ],
 "metadata": {
  "kernelspec": {
   "display_name": "Python 3",
   "language": "python",
   "name": "python3"
  },
  "language_info": {
   "codemirror_mode": {
    "name": "ipython",
    "version": 3
   },
   "file_extension": ".py",
   "mimetype": "text/x-python",
   "name": "python",
   "nbconvert_exporter": "python",
   "pygments_lexer": "ipython3",
   "version": "3.8.3"
  }
 },
 "nbformat": 4,
 "nbformat_minor": 4
}
