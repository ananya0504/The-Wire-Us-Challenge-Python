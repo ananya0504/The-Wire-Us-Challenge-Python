{
 "cells": [
  {
   "cell_type": "code",
   "execution_count": 5,
   "metadata": {},
   "outputs": [
    {
     "name": "stdout",
     "output_type": "stream",
     "text": [
      "Enter number of test cases: 2\n",
      "Enter the number: 63\n",
      "The next palindrome number after 63 is 66\n",
      "Enter the number: 1221\n",
      "The next palindrome number after 1221 is 1331\n"
     ]
    }
   ],
   "source": [
    "import sys\n",
    "def Next_smallest_Palindrome(num):\n",
    "    for i in range(num+1,sys.maxsize):\n",
    "        if str(i) == str(i)[::-1]:\n",
    "            return i\n",
    "\n",
    "t = int(input(\"Enter number of test cases: \"))\n",
    "while(t):\n",
    "        n = int(input(\"Enter the number: \"))\n",
    "        ans = Next_smallest_Palindrome(n)\n",
    "        print(\"The next palindrome number after\",n, \"is {}\".format(ans))\n",
    "        t=t-1"
   ]
  },
  {
   "cell_type": "code",
   "execution_count": null,
   "metadata": {},
   "outputs": [],
   "source": []
  }
 ],
 "metadata": {
  "kernelspec": {
   "display_name": "Python 3",
   "language": "python",
   "name": "python3"
  },
  "language_info": {
   "codemirror_mode": {
    "name": "ipython",
    "version": 3
   },
   "file_extension": ".py",
   "mimetype": "text/x-python",
   "name": "python",
   "nbconvert_exporter": "python",
   "pygments_lexer": "ipython3",
   "version": "3.8.3"
  }
 },
 "nbformat": 4,
 "nbformat_minor": 4
}
