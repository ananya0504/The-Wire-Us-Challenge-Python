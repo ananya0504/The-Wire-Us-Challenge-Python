{
 "cells": [
  {
   "cell_type": "code",
   "execution_count": 1,
   "metadata": {},
   "outputs": [
    {
     "name": "stdout",
     "output_type": "stream",
     "text": [
      "Requirement already satisfied: pandas in c:\\programdata\\anaconda3\\lib\\site-packages (1.0.5)\n",
      "Requirement already satisfied: python-dateutil>=2.6.1 in c:\\programdata\\anaconda3\\lib\\site-packages (from pandas) (2.8.1)\n",
      "Requirement already satisfied: numpy>=1.13.3 in c:\\programdata\\anaconda3\\lib\\site-packages (from pandas) (1.18.5)\n",
      "Requirement already satisfied: pytz>=2017.2 in c:\\programdata\\anaconda3\\lib\\site-packages (from pandas) (2020.1)\n",
      "Requirement already satisfied: six>=1.5 in c:\\programdata\\anaconda3\\lib\\site-packages (from python-dateutil>=2.6.1->pandas) (1.15.0)\n",
      "Note: you may need to restart the kernel to use updated packages.\n"
     ]
    }
   ],
   "source": [
    "pip install pandas\n"
   ]
  },
  {
   "cell_type": "code",
   "execution_count": 10,
   "metadata": {},
   "outputs": [
    {
     "name": "stdout",
     "output_type": "stream",
     "text": [
      "Enter the number of rows/columns for square matrix:2\n",
      "Enter the entries row-wise:\n",
      "1\n",
      "2\n",
      "3\n",
      "4\n",
      "1 2 \n",
      "3 4 \n"
     ]
    }
   ],
   "source": [
    "import numpy as np\n",
    "# A basic code for matrix input from user \n",
    "  \n",
    "n = int(input(\"Enter the number of rows/columns for square matrix:\")) \n",
    "#C = int(input(\"Enter the number of columns:\")) \n",
    "  \n",
    "# Initialize matrix \n",
    "matrix = [] \n",
    "print(\"Enter the entries row-wise:\") \n",
    "  \n",
    "# For user input \n",
    "for i in range(n):          # A for loop for row entries \n",
    "    a =[] \n",
    "    for j in range(n):      # A for loop for column entries \n",
    "         a.append(int(input())) \n",
    "    matrix.append(a) \n",
    "    \n",
    "arr=np.array(matrix)\n",
    "  \n",
    "# For printing the matrix \n",
    "for i in range(n): \n",
    "    for j in range(n): \n",
    "        print(arr[i][j], end = \" \") \n",
    "    print() "
   ]
  },
  {
   "cell_type": "markdown",
   "metadata": {},
   "source": [
    "#importing the scipy and numpy packages\n",
    "from scipy import linalg\n",
    "import numpy as np\n",
    "\n",
    "#Declaring the numpy array\n",
    "A = np.array([[1,2],[3,4]])\n",
    "\n",
    "#Passing the values to the det function\n",
    "x = linalg.det(A)\n",
    "\n",
    "#printing the result\n",
    "print x"
   ]
  },
  {
   "cell_type": "code",
   "execution_count": 12,
   "metadata": {},
   "outputs": [
    {
     "name": "stdout",
     "output_type": "stream",
     "text": [
      "-2.0\n"
     ]
    }
   ],
   "source": [
    "#importing the scipy and numpy packages\n",
    "from scipy import linalg\n",
    "import numpy as np\n",
    "\n",
    "#Declaring the numpy array\n",
    "A = np.array([[1,2],[3,4]])\n",
    "\n",
    "#Passing the values to the det function\n",
    "x = linalg.det(A)\n",
    "\n",
    "#printing the result\n",
    "print(x)"
   ]
  },
  {
   "cell_type": "code",
   "execution_count": 16,
   "metadata": {},
   "outputs": [
    {
     "name": "stdout",
     "output_type": "stream",
     "text": [
      "Enter the number of rows/columns for square matrix:3\n",
      "Enter the entries row-wise:\n",
      "1\n",
      "2\n",
      "3\n",
      "1\n",
      "2\n",
      "3\n",
      "1\n",
      "2\n",
      "3\n",
      "1 2 3 \n",
      "1 2 3 \n",
      "1 2 3 \n",
      "The determinant of the matrix is:  0.0\n"
     ]
    }
   ],
   "source": [
    "#importing the scipy and numpy packages\n",
    "from scipy import linalg\n",
    "import numpy as np\n",
    "\n",
    "n = int(input(\"Enter the number of rows/columns for square matrix:\")) \n",
    "#C = int(input(\"Enter the number of columns:\")) \n",
    "  \n",
    "# Initialize matrix \n",
    "matrix = [] \n",
    "print(\"Enter the entries row-wise:\") \n",
    "  \n",
    "# For user input \n",
    "for i in range(n):          # A for loop for row entries \n",
    "    a =[] \n",
    "    for j in range(n):      # A for loop for column entries \n",
    "         a.append(int(input())) \n",
    "    matrix.append(a) \n",
    "    \n",
    "arr=np.array(matrix)\n",
    "\n",
    "# For printing the matrix \n",
    "for i in range(n): \n",
    "    for j in range(n): \n",
    "        print(arr[i][j], end = \" \") \n",
    "    print() \n",
    "\n",
    "#Passing the values to the det function\n",
    "x = linalg.det(arr)\n",
    "\n",
    "#printing the result\n",
    "print(\"The determinant of the matrix is: \",x)"
   ]
  },
  {
   "cell_type": "code",
   "execution_count": null,
   "metadata": {},
   "outputs": [],
   "source": []
  }
 ],
 "metadata": {
  "kernelspec": {
   "display_name": "Python 3",
   "language": "python",
   "name": "python3"
  },
  "language_info": {
   "codemirror_mode": {
    "name": "ipython",
    "version": 3
   },
   "file_extension": ".py",
   "mimetype": "text/x-python",
   "name": "python",
   "nbconvert_exporter": "python",
   "pygments_lexer": "ipython3",
   "version": "3.8.3"
  }
 },
 "nbformat": 4,
 "nbformat_minor": 4
}
