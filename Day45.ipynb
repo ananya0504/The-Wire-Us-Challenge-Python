{
 "cells": [
  {
   "cell_type": "code",
   "execution_count": 2,
   "metadata": {},
   "outputs": [
    {
     "name": "stdout",
     "output_type": "stream",
     "text": [
      "Found \"exercises\" \n",
      "Found \"exercises\" \n",
      "Found \"exercises\" \n",
      "\n",
      "\n",
      "Looking for \"Software Testing\" in \"Software Testing is fun!\" -> Found a match!\n",
      "Looking for \"fun\" in \"Software Testing is fun!\" -> Found a match!\n"
     ]
    }
   ],
   "source": [
    "#https://www.guru99.com/python-regular-expressions-complete-tutorial.html\n",
    "\n",
    "import re\n",
    "\n",
    "text1 = 'Python exercises, PHP exercises, C# exercises'\n",
    "subs1 = 'exercises'\n",
    "for found in re.findall(subs1, text1):\n",
    "    print('Found \"%s\" ' %found)\n",
    "    \n",
    "print(\"\\n\")\n",
    "    \n",
    "text2 = \"Software Testing is fun!\"\n",
    "subs2 = [\"Software Testing\", \"fun\"]\n",
    "for found in subs2:\n",
    "    print('Looking for \"%s\" in \"%s\" ->' %(found,text2), end=\" \")\n",
    "    \n",
    "    if(re.search(found,text2)):\n",
    "        print(\"Found a match!\")\n",
    "    else:\n",
    "        print(\"Match not found!\")"
   ]
  },
  {
   "cell_type": "code",
   "execution_count": null,
   "metadata": {},
   "outputs": [],
   "source": []
  }
 ],
 "metadata": {
  "kernelspec": {
   "display_name": "Python 3",
   "language": "python",
   "name": "python3"
  },
  "language_info": {
   "codemirror_mode": {
    "name": "ipython",
    "version": 3
   },
   "file_extension": ".py",
   "mimetype": "text/x-python",
   "name": "python",
   "nbconvert_exporter": "python",
   "pygments_lexer": "ipython3",
   "version": "3.8.3"
  }
 },
 "nbformat": 4,
 "nbformat_minor": 4
}
