{
 "cells": [
  {
   "cell_type": "code",
   "execution_count": 4,
   "metadata": {},
   "outputs": [
    {
     "name": "stdout",
     "output_type": "stream",
     "text": [
      "Enter your ID: ananyagupta0504@gmail.com\n",
      "ananyagupta0504@gmail.com\n",
      "Added in the file successfully\n",
      "Do you want to continue?(0/1)\n",
      "1\n",
      "Enter your ID: tanya88@gmail.com\n",
      "tanya88@gmail.com\n",
      "Added in the file successfully\n",
      "Do you want to continue?(0/1)\n",
      "1\n",
      "Enter your ID: pritshit@rediffmail.com\n",
      "pritshit@rediffmail.com\n",
      "Not a Google mail ID\n",
      "Do you want to continue?(0/1)\n",
      "0\n"
     ]
    }
   ],
   "source": [
    "import re\n",
    "f=open(\"Allgmail.txt\",\"a\")\n",
    "\n",
    "ch=1\n",
    "\n",
    "while(ch):\n",
    "    str = input(\"Enter your ID: \")\n",
    "    print(str)\n",
    "    \n",
    "    x= re.search(\".@gmail.com$\",str)\n",
    "    if(x):\n",
    "        f.write(str)\n",
    "        print(\"Added in the file successfully\")\n",
    "    else:\n",
    "        print(\"Not a Google mail ID\")\n",
    "        \n",
    "    print(\"Do you want to continue?(0/1)\")\n",
    "    ch=int(input())\n",
    "    \n",
    "f.close()"
   ]
  },
  {
   "cell_type": "code",
   "execution_count": null,
   "metadata": {},
   "outputs": [],
   "source": []
  }
 ],
 "metadata": {
  "kernelspec": {
   "display_name": "Python 3",
   "language": "python",
   "name": "python3"
  },
  "language_info": {
   "codemirror_mode": {
    "name": "ipython",
    "version": 3
   },
   "file_extension": ".py",
   "mimetype": "text/x-python",
   "name": "python",
   "nbconvert_exporter": "python",
   "pygments_lexer": "ipython3",
   "version": "3.8.3"
  }
 },
 "nbformat": 4,
 "nbformat_minor": 4
}
