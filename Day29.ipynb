{
 "cells": [
  {
   "cell_type": "code",
   "execution_count": 15,
   "metadata": {},
   "outputs": [
    {
     "name": "stdout",
     "output_type": "stream",
     "text": [
      "Select any 1 \n",
      "1. Age\n",
      "2. Date Of Birth\n",
      "2\n",
      "Enter DOB(dd-mm-yyyy): 05-04-2000\n",
      "You will be of 100 years in 2100 years\n"
     ]
    }
   ],
   "source": [
    "ch=int(input(\"Select any 1 \\n1. Age\\n2. Date Of Birth\\n\"))\n",
    "if(ch==1):\n",
    "    age = int(input(\"Enter Age: \"))\n",
    "    print(\"You will be of 100 years in \", 2020+ 100-age)\n",
    "else:\n",
    "    oc=0\n",
    "    dob = input(\"Enter DOB(dd-mm-yyyy): \")\n",
    "    for i in range(0,len(dob)):\n",
    "        if(dob[i]==\"/\" or dob[i]==\".\" or dob[i]==\"-\"):\n",
    "            oc=oc+1\n",
    "            if(oc==2):\n",
    "                break;\n",
    "    age = dob[i+1:]  \n",
    "    age = int(age)\n",
    "    print(\"You will be of 100 years in\",age+100,\"years\")"
   ]
  },
  {
   "cell_type": "code",
   "execution_count": null,
   "metadata": {},
   "outputs": [],
   "source": []
  }
 ],
 "metadata": {
  "kernelspec": {
   "display_name": "Python 3",
   "language": "python",
   "name": "python3"
  },
  "language_info": {
   "codemirror_mode": {
    "name": "ipython",
    "version": 3
   },
   "file_extension": ".py",
   "mimetype": "text/x-python",
   "name": "python",
   "nbconvert_exporter": "python",
   "pygments_lexer": "ipython3",
   "version": "3.8.3"
  }
 },
 "nbformat": 4,
 "nbformat_minor": 4
}
