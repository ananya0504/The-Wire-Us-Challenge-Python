{
 "cells": [
  {
   "cell_type": "code",
   "execution_count": 8,
   "metadata": {},
   "outputs": [
    {
     "name": "stdout",
     "output_type": "stream",
     "text": [
      "1. Display Balance\n",
      "2. Withdraw\n",
      "3. Deposit\n",
      "4. Quit\n",
      "Enter choice: 1\n",
      "Balance:  500\n",
      "1. Display Balance\n",
      "2. Withdraw\n",
      "3. Deposit\n",
      "4. Quit\n",
      "Enter choice: 3\n",
      "How much money would you like to deposit?1500\n",
      "Money successfully deposited, balance:  2000\n",
      "1. Display Balance\n",
      "2. Withdraw\n",
      "3. Deposit\n",
      "4. Quit\n",
      "Enter choice: 2\n",
      "How much money would you like to withdraw?3000\n",
      "Insufficient balance!!!\n",
      "1. Display Balance\n",
      "2. Withdraw\n",
      "3. Deposit\n",
      "4. Quit\n",
      "Enter choice: 2\n",
      "How much money would you like to withdraw?1800\n",
      "Money successfully withdrawn, balance:  200\n",
      "1. Display Balance\n",
      "2. Withdraw\n",
      "3. Deposit\n",
      "4. Quit\n",
      "Enter choice: 4\n",
      "Exiting!\n"
     ]
    }
   ],
   "source": [
    "class ATM():\n",
    "    def __init__(self):\n",
    "        self.balance=500\n",
    "    def bal(self):\n",
    "        return self.balance\n",
    "    def dep(self):\n",
    "        self.sum=int(input(\"How much money would you like to deposit?\"))\n",
    "        self.balance+=self.sum\n",
    "        return self.balance\n",
    "    def withd(self):\n",
    "        self.sum=int(input(\"How much money would you like to withdraw?\"))\n",
    "        if self.sum <= self.balance:\n",
    "            print(\"Money successfully withdrawn, balance: \", self.balance-self.sum)\n",
    "        else:\n",
    "            print(\"Insufficient balance!!!\")\n",
    "    \n",
    "    \n",
    "#balance=500    \n",
    "obj = ATM()\n",
    "choice=1\n",
    "while choice!=0:\n",
    "    print(\"1. Display Balance\")\n",
    "    print(\"2. Withdraw\")\n",
    "    print(\"3. Deposit\")\n",
    "    print(\"4. Quit\")\n",
    "    choice=int(input(\"Enter choice: \"))\n",
    "    if choice==1:\n",
    "        print(\"Balance: \",obj.bal())\n",
    "    elif choice==2:\n",
    "        obj.withd()\n",
    "    elif choice==3:\n",
    "        print(\"Money successfully deposited, balance: \",obj.dep())\n",
    "    elif choice==4:\n",
    "        print(\"Exiting!\")\n",
    "        break\n",
    "    else:\n",
    "        print(\"Invalid choice!!\")     "
   ]
  },
  {
   "cell_type": "code",
   "execution_count": null,
   "metadata": {},
   "outputs": [],
   "source": []
  }
 ],
 "metadata": {
  "kernelspec": {
   "display_name": "Python 3",
   "language": "python",
   "name": "python3"
  },
  "language_info": {
   "codemirror_mode": {
    "name": "ipython",
    "version": 3
   },
   "file_extension": ".py",
   "mimetype": "text/x-python",
   "name": "python",
   "nbconvert_exporter": "python",
   "pygments_lexer": "ipython3",
   "version": "3.8.3"
  }
 },
 "nbformat": 4,
 "nbformat_minor": 4
}
