{
 "cells": [
  {
   "cell_type": "code",
   "execution_count": 14,
   "metadata": {},
   "outputs": [
    {
     "name": "stdout",
     "output_type": "stream",
     "text": [
      "EXTRACTING ROW DATA\n",
      "['DATE', 'PROJECT, EVENT, LETTERHEADS, ETC. ', '', 'COLLABORATION', 'NAME OF CLUB(s)', 'DISTRICT', '', '']\n",
      "\n",
      "\n",
      "EXTRACTING COLUMN DATA\n",
      "MONTH- AUGUST\n",
      "\n",
      "PROJECT, EVENT, LETTERHEADS, ETC. \n",
      "Rotary Virtual Convention - July Breakout (IS)\n",
      " Fellowship Meet with SAC, Delhi Janak,Delhi Vedanta (club s)\n",
      "Bring Back Memories(cs) \n",
      "\n",
      "\n",
      "metanoia session 2\n",
      "\n",
      "skin donation webinar (organised by rotary Delhi shahdara) (IS)\n",
      "World indigenous people day(online) \n",
      "Cancer Awareness with Sanjeevni Foundation (IS)\n",
      "Expressive arts workshop\n",
      "battle of words, debate(V)\n",
      "battle of words, debate(V)\n",
      "\n",
      "Tricolour challenge/ Azadi-E-Bahaar\n",
      "Buzz the Buzzer Quiz with Rigel Foundation (IS)\n",
      "Bootcamp 4\n",
      "letterhead exchange\n",
      "Slam Poetry  (IS)\n",
      "Men ki Baat webinar (shifaa)\n",
      "\n",
      "\n",
      "\n",
      "\n",
      "\n",
      "\n",
      "\n",
      "\n",
      "\n",
      "\n",
      "\n",
      "\n",
      "\n",
      "\n",
      "\n",
      "Attendance Submitted and Marked\n"
     ]
    }
   ],
   "source": [
    "import xlrd\n",
    "\n",
    "# Make workbook object\n",
    "workbook = xlrd.open_workbook('Sample.xlsx')\n",
    "\n",
    "# To select the first worksheet use\n",
    "sheet1 = workbook.sheet_by_index(0)\n",
    "\n",
    "# To read the third row\n",
    "print(\"EXTRACTING ROW DATA\")\n",
    "print(sheet1.row_values(2))\n",
    "print(\"\\n\")\n",
    "\n",
    "# To read the second column\n",
    "print(\"EXTRACTING COLUMN DATA\")\n",
    "for i in range(sheet1.nrows):\n",
    "    print(sheet1.cell_value(i, 1))\n",
    " \n"
   ]
  },
  {
   "cell_type": "code",
   "execution_count": null,
   "metadata": {},
   "outputs": [],
   "source": []
  }
 ],
 "metadata": {
  "kernelspec": {
   "display_name": "Python 3",
   "language": "python",
   "name": "python3"
  },
  "language_info": {
   "codemirror_mode": {
    "name": "ipython",
    "version": 3
   },
   "file_extension": ".py",
   "mimetype": "text/x-python",
   "name": "python",
   "nbconvert_exporter": "python",
   "pygments_lexer": "ipython3",
   "version": "3.8.3"
  }
 },
 "nbformat": 4,
 "nbformat_minor": 4
}
